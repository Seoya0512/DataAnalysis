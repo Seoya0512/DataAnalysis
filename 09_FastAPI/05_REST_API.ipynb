{
  "nbformat": 4,
  "nbformat_minor": 0,
  "metadata": {
    "colab": {
      "name": "05_REST_API.ipynb",
      "provenance": []
    },
    "kernelspec": {
      "name": "python3",
      "display_name": "Python 3"
    },
    "language_info": {
      "name": "python"
    }
  },
  "cells": [
    {
      "cell_type": "markdown",
      "metadata": {
        "id": "e_t6_9LusVdy"
      },
      "source": [
        "# REST-API\n",
        "  - Raid API 사용해서 실습하기 "
      ]
    },
    {
      "cell_type": "markdown",
      "metadata": {
        "id": "MJNsT1aocHr7"
      },
      "source": [
        "Skate ipsum - Endpoint 실습 "
      ]
    },
    {
      "cell_type": "code",
      "metadata": {
        "colab": {
          "base_uri": "https://localhost:8080/"
        },
        "id": "GAAGIMbscCsX",
        "outputId": "590cfa47-b33d-4f5b-dce0-2444ed3ea6a6"
      },
      "source": [
        "import requests\n",
        "\n",
        "url = \"https://mashape-community-skate-ipsum.p.rapidapi.com/3/1/JSON\"\n",
        "\n",
        "headers = {\n",
        "    'x-rapidapi-host': \"mashape-community-skate-ipsum.p.rapidapi.com\",\n",
        "    'x-rapidapi-key': \"3788e2c4cdmshe08626798a61bc3p12c7a0jsnf3abb526cfee\"\n",
        "    }\n",
        "\n",
        "response = requests.request(\"GET\", url, headers=headers)\n",
        "\n",
        "print(response.text)"
      ],
      "execution_count": 1,
      "outputs": [
        {
          "output_type": "stream",
          "name": "stdout",
          "text": [
            "[\"Skate ipsum dolor sit amet,  wax vert nose freestyle casper Tod Swank. Nose slide NoMeansNo spine darkslide Tracker birdie. Tony Magnusson blunt nollie ho-ho Saran Wrap crooked grind. Salad grind poseur flail Caballerial yeah lipslide. Hang up hurricane ollie north rail slide darkslide. Speed wobbles 540 pivot aerial ollie north. Sponsored tic-tac heel flip trucks feeble. Betty John Grigley fastplant regular footed nose-bump dude. Kick-nose rock and roll Upland backside concave carve. Disaster hospital flip grab concave full-cab. Crail slide impossible sketchy kingpin tuna-flip. Grab sketchy gap rail fakie out. \",\"Hang ten pivot opposite footed downhill Blind hurricane transition. Blunt cab flip full pipe steps nosepicker deck. Griptape casper slide Primo slide wax 180 slam. Nosegrind nose slide kickflip hand rail bruised heel alley oop Gullwing. Mute-air nosebone shoveit ollie hole cab flip front foot impossible. Ollie north tail blunt Paul Rodriguez 720 pressure flip boned out. Hang-up bone air slap maxwell freestyle vert varial. Skull Skates hang-up deck face plant hanger risers pool. Pressure flip helipop casper Skate Rock frigid air slide flypaper. \",\"Coping fakie slide tic-tac fakie out Elissa Steamer bruised heel. Sims nosebone cess slide snake spine grab nose-bump. Kick-nose sick casper g-turn vert axle. Pump Christ air grab Eight Dayz launch ramp kingpin coping. Ray Underhill axle set face plant Japan air nosepicker pool indy grab. Smith grind sick casper slide crail slide fastplant blunt. Slob air stalefish flail snake front foot impossible 270. G-turn Bones Brigade slap maxwell freestyle stalefish 540 pop shove-it. New Deal crail slide downhill Kevin Harris skate key hospital flip nose. Rad method air coping speed wobbles Rudy Johnson hip sick. Pool Tom Knox egg plant rad flail skate or die transfer. \"]\n"
          ]
        }
      ]
    },
    {
      "cell_type": "markdown",
      "metadata": {
        "id": "oXlmj9z1fduR"
      },
      "source": [
        "## Weather Forecast - Endpoint 활용 방법 \n",
        "  - 날씨를 통해 여행지 선정하기 "
      ]
    },
    {
      "cell_type": "markdown",
      "metadata": {
        "id": "ACZeRLlrrCaj"
      },
      "source": [
        "Step 1. Import weather data into a Python program\n",
        "  - Weather Forecast API 사용 "
      ]
    },
    {
      "cell_type": "code",
      "metadata": {
        "id": "6APRn4KOfg4L"
      },
      "source": [
        "import requests\n",
        "import re\n",
        "\n",
        "cities = ['London,uk', 'Paris,fr', 'Porto,pt']\n",
        "weather_dict = {}\n",
        "def city_forecast(city):\n",
        "  url = \"https://community-open-weather-map.p.rapidapi.com/forecast\"\n",
        "  querystring = {\"q\": city}\n",
        "  headers = {\n",
        "      'x-rapidapi-host': \"community-open-weather-map.p.rapidapi.com\",\n",
        "      'x-rapidapi-key': \"3788e2c4cdmshe08626798a61bc3p12c7a0jsnf3abb526cfee\"\n",
        "      }\n",
        "\n",
        "  response = requests.request(\"GET\", url, headers=headers, params=querystring)\n",
        "  return response.json()"
      ],
      "execution_count": 9,
      "outputs": []
    },
    {
      "cell_type": "code",
      "metadata": {
        "id": "UAWx-gE2j9Z8"
      },
      "source": [
        "for city in cities:\n",
        "  weather_dict[city] = city_forecast(city)"
      ],
      "execution_count": 10,
      "outputs": []
    },
    {
      "cell_type": "markdown",
      "metadata": {
        "id": "qdog2wyYrQeS"
      },
      "source": [
        "Step 2. Prepare data for estimation"
      ]
    },
    {
      "cell_type": "code",
      "metadata": {
        "id": "BOT53q3RkxUt"
      },
      "source": [
        "def get_day_weather(pred):\n",
        "  pattern =re.compile(\" [0-9]*:[0-9]*:[0-9]*\")\n",
        "  t = pattern.search(pred['dt_txt'])\n",
        "\n",
        "  hour = int(t[0].split(':')[0])\n",
        "  \n",
        "  if 10<=hour<=19:\n",
        "        return True\n",
        "\n",
        "  return False\n",
        "\n",
        "day_weather = {}\n",
        "\n",
        "# USe filter function select the predictions of only the day temperature\n",
        "for city in weather_dict.keys():\n",
        "  day_weather[city] = list(filter(get_day_weather, weather_dict[city]['list']))"
      ],
      "execution_count": 11,
      "outputs": []
    },
    {
      "cell_type": "markdown",
      "metadata": {
        "id": "Iy2PAijBr2gy"
      },
      "source": [
        "Step 3. Estimate the best city for travel"
      ]
    },
    {
      "cell_type": "code",
      "metadata": {
        "colab": {
          "base_uri": "https://localhost:8080/"
        },
        "id": "CV-tygz9qdDE",
        "outputId": "270837bf-802f-469c-bdd3-385ae75786a2"
      },
      "source": [
        "def travel_estimator(weather_stat):\n",
        "  estimation = {}\n",
        "\n",
        "  for city in weather_stat.keys():    \n",
        "        estimation[city] = {}\n",
        "        estimation[city]['clear_sky_count'] = 0\n",
        "        estimation[city]['av_temp'] = 0\n",
        "\n",
        "        for prediction in day_weather[city]:\n",
        "          estimation[city]['av_temp'] += prediction['main']['temp']\n",
        "          if prediction['weather'][0]['description'] in ['clear sky', 'few clouds']:\n",
        "            estimation[city]['clear_sky_count'] += 1          \n",
        "\n",
        "        estimation[city]['av_temp'] = round(estimation[city]['av_temp'] / len(day_weather[city]), 2)\n",
        "        # convert temperature to celsius\n",
        "        estimation[city]['av_temp_cels'] = round(estimation[city]['av_temp'] - 273.15, 2)\n",
        "\n",
        "  return estimation\n",
        "\n",
        "travel_rating = travel_estimator(day_weather)\n",
        "\n",
        "# sort cities by clear sky forecasts\n",
        "sorted_travel_rating = sorted(travel_rating.items() ,  key=lambda x: x[1]['av_temp_cels'] )\n",
        "\n",
        "\n",
        "for city in sorted_travel_rating:\n",
        "  print(city[0])\n",
        "  print('Clear sky forecasts:', city[1]['clear_sky_count'])  \n",
        "  print('Average temperature:', city[1]['av_temp_cels'], \"C\")\n",
        "  print('n')"
      ],
      "execution_count": 12,
      "outputs": [
        {
          "output_type": "stream",
          "name": "stdout",
          "text": [
            "London,uk\n",
            "Clear sky forecasts: 2\n",
            "Average temperature: 14.8 C\n",
            "n\n",
            "Paris,fr\n",
            "Clear sky forecasts: 1\n",
            "Average temperature: 16.76 C\n",
            "n\n",
            "Porto,pt\n",
            "Clear sky forecasts: 1\n",
            "Average temperature: 19.13 C\n",
            "n\n"
          ]
        }
      ]
    },
    {
      "cell_type": "code",
      "metadata": {
        "id": "qpgggGZUqi-Y"
      },
      "source": [
        ""
      ],
      "execution_count": null,
      "outputs": []
    }
  ]
}